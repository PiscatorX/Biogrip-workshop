{
 "cells": [
  {
   "cell_type": "code",
   "execution_count": 1,
   "id": "ee7a482a-d06d-48d0-b90c-25738fd74662",
   "metadata": {},
   "outputs": [
    {
     "name": "stderr",
     "output_type": "stream",
     "text": [
      "── \u001b[1mAttaching core tidyverse packages\u001b[22m ────────────────────────────────────────────────────────────────────────────────────────────────────── tidyverse 2.0.0 ──\n",
      "\u001b[32m✔\u001b[39m \u001b[34mdplyr    \u001b[39m 1.1.4     \u001b[32m✔\u001b[39m \u001b[34mreadr    \u001b[39m 2.1.5\n",
      "\u001b[32m✔\u001b[39m \u001b[34mforcats  \u001b[39m 1.0.0     \u001b[32m✔\u001b[39m \u001b[34mstringr  \u001b[39m 1.5.1\n",
      "\u001b[32m✔\u001b[39m \u001b[34mggplot2  \u001b[39m 3.5.0     \u001b[32m✔\u001b[39m \u001b[34mtibble   \u001b[39m 3.2.1\n",
      "\u001b[32m✔\u001b[39m \u001b[34mlubridate\u001b[39m 1.9.3     \u001b[32m✔\u001b[39m \u001b[34mtidyr    \u001b[39m 1.3.1\n",
      "\u001b[32m✔\u001b[39m \u001b[34mpurrr    \u001b[39m 1.0.2     \n",
      "── \u001b[1mConflicts\u001b[22m ──────────────────────────────────────────────────────────────────────────────────────────────────────────────────────── tidyverse_conflicts() ──\n",
      "\u001b[31m✖\u001b[39m \u001b[34mdplyr\u001b[39m::\u001b[32mfilter()\u001b[39m masks \u001b[34mstats\u001b[39m::filter()\n",
      "\u001b[31m✖\u001b[39m \u001b[34mdplyr\u001b[39m::\u001b[32mlag()\u001b[39m    masks \u001b[34mstats\u001b[39m::lag()\n",
      "\u001b[36mℹ\u001b[39m Use the conflicted package (\u001b[3m\u001b[34m<http://conflicted.r-lib.org/>\u001b[39m\u001b[23m) to force all conflicts to become errors\n"
     ]
    }
   ],
   "source": [
    "library(tidyverse)"
   ]
  },
  {
   "cell_type": "code",
   "execution_count": 2,
   "id": "41a230e7-96c4-4aa2-95a8-91e4f42ac1b9",
   "metadata": {},
   "outputs": [
    {
     "data": {
      "text/html": [
       "<table class=\"dataframe\">\n",
       "<caption>A data.frame: 15 × 6</caption>\n",
       "<thead>\n",
       "\t<tr><th scope=col>estuary</th><th scope=col>core</th><th scope=col>depth_1</th><th scope=col>depth_2</th><th scope=col>DBD</th><th scope=col>Corg</th></tr>\n",
       "\t<tr><th scope=col>&lt;chr&gt;</th><th scope=col>&lt;int&gt;</th><th scope=col>&lt;int&gt;</th><th scope=col>&lt;int&gt;</th><th scope=col>&lt;dbl&gt;</th><th scope=col>&lt;dbl&gt;</th></tr>\n",
       "</thead>\n",
       "<tbody>\n",
       "\t<tr><td>Olifants</td><td>1</td><td> 0</td><td> 5</td><td>0.853000</td><td>0.46120000</td></tr>\n",
       "\t<tr><td>Olifants</td><td>2</td><td> 0</td><td> 5</td><td>0.844650</td><td>0.30094675</td></tr>\n",
       "\t<tr><td>Olifants</td><td>3</td><td> 0</td><td> 5</td><td>0.492800</td><td>1.35763209</td></tr>\n",
       "\t<tr><td>Olifants</td><td>1</td><td> 5</td><td>10</td><td>1.192133</td><td>0.50411956</td></tr>\n",
       "\t<tr><td>Olifants</td><td>2</td><td> 5</td><td>10</td><td>1.247500</td><td>0.33700787</td></tr>\n",
       "\t<tr><td>Olifants</td><td>3</td><td> 5</td><td>10</td><td>1.114550</td><td>0.27047244</td></tr>\n",
       "\t<tr><td>Olifants</td><td>1</td><td>10</td><td>20</td><td>1.186980</td><td>0.20190476</td></tr>\n",
       "\t<tr><td>Olifants</td><td>2</td><td>10</td><td>20</td><td>1.260380</td><td>0.09129225</td></tr>\n",
       "\t<tr><td>Olifants</td><td>3</td><td>10</td><td>20</td><td>1.201780</td><td>0.27278885</td></tr>\n",
       "\t<tr><td>Olifants</td><td>1</td><td>20</td><td>30</td><td>1.186360</td><td>0.30743083</td></tr>\n",
       "\t<tr><td>Olifants</td><td>2</td><td>20</td><td>30</td><td>1.128520</td><td>0.42719290</td></tr>\n",
       "\t<tr><td>Olifants</td><td>3</td><td>20</td><td>30</td><td>1.172660</td><td>0.20230616</td></tr>\n",
       "\t<tr><td>Olifants</td><td>1</td><td>30</td><td>50</td><td>1.323180</td><td>0.08222222</td></tr>\n",
       "\t<tr><td>Olifants</td><td>2</td><td>30</td><td>50</td><td>1.265360</td><td>0.16326693</td></tr>\n",
       "\t<tr><td>Olifants</td><td>3</td><td>30</td><td>50</td><td>1.271300</td><td>0.10562130</td></tr>\n",
       "</tbody>\n",
       "</table>\n"
      ],
      "text/latex": [
       "A data.frame: 15 × 6\n",
       "\\begin{tabular}{llllll}\n",
       " estuary & core & depth\\_1 & depth\\_2 & DBD & Corg\\\\\n",
       " <chr> & <int> & <int> & <int> & <dbl> & <dbl>\\\\\n",
       "\\hline\n",
       "\t Olifants & 1 &  0 &  5 & 0.853000 & 0.46120000\\\\\n",
       "\t Olifants & 2 &  0 &  5 & 0.844650 & 0.30094675\\\\\n",
       "\t Olifants & 3 &  0 &  5 & 0.492800 & 1.35763209\\\\\n",
       "\t Olifants & 1 &  5 & 10 & 1.192133 & 0.50411956\\\\\n",
       "\t Olifants & 2 &  5 & 10 & 1.247500 & 0.33700787\\\\\n",
       "\t Olifants & 3 &  5 & 10 & 1.114550 & 0.27047244\\\\\n",
       "\t Olifants & 1 & 10 & 20 & 1.186980 & 0.20190476\\\\\n",
       "\t Olifants & 2 & 10 & 20 & 1.260380 & 0.09129225\\\\\n",
       "\t Olifants & 3 & 10 & 20 & 1.201780 & 0.27278885\\\\\n",
       "\t Olifants & 1 & 20 & 30 & 1.186360 & 0.30743083\\\\\n",
       "\t Olifants & 2 & 20 & 30 & 1.128520 & 0.42719290\\\\\n",
       "\t Olifants & 3 & 20 & 30 & 1.172660 & 0.20230616\\\\\n",
       "\t Olifants & 1 & 30 & 50 & 1.323180 & 0.08222222\\\\\n",
       "\t Olifants & 2 & 30 & 50 & 1.265360 & 0.16326693\\\\\n",
       "\t Olifants & 3 & 30 & 50 & 1.271300 & 0.10562130\\\\\n",
       "\\end{tabular}\n"
      ],
      "text/markdown": [
       "\n",
       "A data.frame: 15 × 6\n",
       "\n",
       "| estuary &lt;chr&gt; | core &lt;int&gt; | depth_1 &lt;int&gt; | depth_2 &lt;int&gt; | DBD &lt;dbl&gt; | Corg &lt;dbl&gt; |\n",
       "|---|---|---|---|---|---|\n",
       "| Olifants | 1 |  0 |  5 | 0.853000 | 0.46120000 |\n",
       "| Olifants | 2 |  0 |  5 | 0.844650 | 0.30094675 |\n",
       "| Olifants | 3 |  0 |  5 | 0.492800 | 1.35763209 |\n",
       "| Olifants | 1 |  5 | 10 | 1.192133 | 0.50411956 |\n",
       "| Olifants | 2 |  5 | 10 | 1.247500 | 0.33700787 |\n",
       "| Olifants | 3 |  5 | 10 | 1.114550 | 0.27047244 |\n",
       "| Olifants | 1 | 10 | 20 | 1.186980 | 0.20190476 |\n",
       "| Olifants | 2 | 10 | 20 | 1.260380 | 0.09129225 |\n",
       "| Olifants | 3 | 10 | 20 | 1.201780 | 0.27278885 |\n",
       "| Olifants | 1 | 20 | 30 | 1.186360 | 0.30743083 |\n",
       "| Olifants | 2 | 20 | 30 | 1.128520 | 0.42719290 |\n",
       "| Olifants | 3 | 20 | 30 | 1.172660 | 0.20230616 |\n",
       "| Olifants | 1 | 30 | 50 | 1.323180 | 0.08222222 |\n",
       "| Olifants | 2 | 30 | 50 | 1.265360 | 0.16326693 |\n",
       "| Olifants | 3 | 30 | 50 | 1.271300 | 0.10562130 |\n",
       "\n"
      ],
      "text/plain": [
       "   estuary  core depth_1 depth_2 DBD      Corg      \n",
       "1  Olifants 1     0       5      0.853000 0.46120000\n",
       "2  Olifants 2     0       5      0.844650 0.30094675\n",
       "3  Olifants 3     0       5      0.492800 1.35763209\n",
       "4  Olifants 1     5      10      1.192133 0.50411956\n",
       "5  Olifants 2     5      10      1.247500 0.33700787\n",
       "6  Olifants 3     5      10      1.114550 0.27047244\n",
       "7  Olifants 1    10      20      1.186980 0.20190476\n",
       "8  Olifants 2    10      20      1.260380 0.09129225\n",
       "9  Olifants 3    10      20      1.201780 0.27278885\n",
       "10 Olifants 1    20      30      1.186360 0.30743083\n",
       "11 Olifants 2    20      30      1.128520 0.42719290\n",
       "12 Olifants 3    20      30      1.172660 0.20230616\n",
       "13 Olifants 1    30      50      1.323180 0.08222222\n",
       "14 Olifants 2    30      50      1.265360 0.16326693\n",
       "15 Olifants 3    30      50      1.271300 0.10562130"
      ]
     },
     "metadata": {},
     "output_type": "display_data"
    }
   ],
   "source": [
    "(Test_data <- read.csv(\"Olifants_test_data.csv\"))"
   ]
  },
  {
   "cell_type": "code",
   "execution_count": 3,
   "id": "52c83551-7cba-4bf6-b5f7-09ff0d3307ee",
   "metadata": {},
   "outputs": [
    {
     "data": {
      "text/plain": [
       "       core\n",
       "depth_1 1 2 3\n",
       "     0  1 1 1\n",
       "     5  1 1 1\n",
       "     10 1 1 1\n",
       "     20 1 1 1\n",
       "     30 1 1 1"
      ]
     },
     "metadata": {},
     "output_type": "display_data"
    }
   ],
   "source": [
    "xtabs(~depth_1 + core, data = Test_data)"
   ]
  },
  {
   "cell_type": "code",
   "execution_count": 4,
   "id": "d81f0683-dca4-4919-84a9-62a405f242cc",
   "metadata": {},
   "outputs": [
    {
     "name": "stderr",
     "output_type": "stream",
     "text": [
      "Warning message:\n",
      "“\u001b[1m\u001b[22mThe `size` argument of `element_rect()` is deprecated as of ggplot2 3.4.0.\n",
      "\u001b[36mℹ\u001b[39m Please use the `linewidth` argument instead.”\n"
     ]
    },
    {
     "data": {
      "image/png": "[encoded data removed]",
      "text/plain": [
       "plot without title"
      ]
     },
     "metadata": {
      "image/png": {
       "height": 420,
       "width": 420
      }
     },
     "output_type": "display_data"
    }
   ],
   "source": [
    "ggplot(data = Test_data  , aes(x = depth_2, y = Corg, color = factor(core))) +\n",
    "  geom_line() +\n",
    "  ylab(\"Carbon [%]\") +\n",
    "  xlab(\"Depth [cm]\") +\n",
    "  scale_y_continuous(position = \"right\") +\n",
    "  scale_x_reverse(limits =c(50,5)) +\n",
    "  theme(panel.grid.minor = element_blank(),\n",
    "        panel.background = element_blank(),\n",
    "        legend.title = element_text(size=24, colour = \"black\"),\n",
    "        legend.text = element_text(size=24, colour = \"black\"),\n",
    "        axis.text = element_text(size=24, colour = \"black\"),\n",
    "        axis.title = element_text(size=24, colour = \"black\"),\n",
    "        strip.text.x = element_text(size=24, colour = \"black\"),\n",
    "        panel.border = element_rect(colour = \"black\", fill=NA, size=1)) +\n",
    "  scale_color_discrete(name = \"Core\") + coord_flip() "
   ]
  },
  {
   "cell_type": "code",
   "execution_count": 5,
   "id": "e41a6630-1e98-4b54-b390-504555d43cf9",
   "metadata": {},
   "outputs": [
    {
     "data": {
      "text/html": [
       "<table class=\"dataframe\">\n",
       "<caption>A data.frame: 15 × 7</caption>\n",
       "<thead>\n",
       "\t<tr><th scope=col>estuary</th><th scope=col>core</th><th scope=col>depth_1</th><th scope=col>depth_2</th><th scope=col>DBD</th><th scope=col>Corg</th><th scope=col>Corg_DBD</th></tr>\n",
       "\t<tr><th scope=col>&lt;chr&gt;</th><th scope=col>&lt;int&gt;</th><th scope=col>&lt;int&gt;</th><th scope=col>&lt;int&gt;</th><th scope=col>&lt;dbl&gt;</th><th scope=col>&lt;dbl&gt;</th><th scope=col>&lt;dbl&gt;</th></tr>\n",
       "</thead>\n",
       "<tbody>\n",
       "\t<tr><td>Olifants</td><td>1</td><td> 0</td><td> 5</td><td>0.853000</td><td>0.46120000</td><td>0.003934036</td></tr>\n",
       "\t<tr><td>Olifants</td><td>2</td><td> 0</td><td> 5</td><td>0.844650</td><td>0.30094675</td><td>0.002541947</td></tr>\n",
       "\t<tr><td>Olifants</td><td>3</td><td> 0</td><td> 5</td><td>0.492800</td><td>1.35763209</td><td>0.006690411</td></tr>\n",
       "\t<tr><td>Olifants</td><td>1</td><td> 5</td><td>10</td><td>1.192133</td><td>0.50411956</td><td>0.006009777</td></tr>\n",
       "\t<tr><td>Olifants</td><td>2</td><td> 5</td><td>10</td><td>1.247500</td><td>0.33700787</td><td>0.004204173</td></tr>\n",
       "\t<tr><td>Olifants</td><td>3</td><td> 5</td><td>10</td><td>1.114550</td><td>0.27047244</td><td>0.003014551</td></tr>\n",
       "\t<tr><td>Olifants</td><td>1</td><td>10</td><td>20</td><td>1.186980</td><td>0.20190476</td><td>0.002396569</td></tr>\n",
       "\t<tr><td>Olifants</td><td>2</td><td>10</td><td>20</td><td>1.260380</td><td>0.09129225</td><td>0.001150629</td></tr>\n",
       "\t<tr><td>Olifants</td><td>3</td><td>10</td><td>20</td><td>1.201780</td><td>0.27278885</td><td>0.003278322</td></tr>\n",
       "\t<tr><td>Olifants</td><td>1</td><td>20</td><td>30</td><td>1.186360</td><td>0.30743083</td><td>0.003647236</td></tr>\n",
       "\t<tr><td>Olifants</td><td>2</td><td>20</td><td>30</td><td>1.128520</td><td>0.42719290</td><td>0.004820957</td></tr>\n",
       "\t<tr><td>Olifants</td><td>3</td><td>20</td><td>30</td><td>1.172660</td><td>0.20230616</td><td>0.002372363</td></tr>\n",
       "\t<tr><td>Olifants</td><td>1</td><td>30</td><td>50</td><td>1.323180</td><td>0.08222222</td><td>0.001087948</td></tr>\n",
       "\t<tr><td>Olifants</td><td>2</td><td>30</td><td>50</td><td>1.265360</td><td>0.16326693</td><td>0.002065914</td></tr>\n",
       "\t<tr><td>Olifants</td><td>3</td><td>30</td><td>50</td><td>1.271300</td><td>0.10562130</td><td>0.001342764</td></tr>\n",
       "</tbody>\n",
       "</table>\n"
      ],
      "text/latex": [
       "A data.frame: 15 × 7\n",
       "\\begin{tabular}{lllllll}\n",
       " estuary & core & depth\\_1 & depth\\_2 & DBD & Corg & Corg\\_DBD\\\\\n",
       " <chr> & <int> & <int> & <int> & <dbl> & <dbl> & <dbl>\\\\\n",
       "\\hline\n",
       "\t Olifants & 1 &  0 &  5 & 0.853000 & 0.46120000 & 0.003934036\\\\\n",
       "\t Olifants & 2 &  0 &  5 & 0.844650 & 0.30094675 & 0.002541947\\\\\n",
       "\t Olifants & 3 &  0 &  5 & 0.492800 & 1.35763209 & 0.006690411\\\\\n",
       "\t Olifants & 1 &  5 & 10 & 1.192133 & 0.50411956 & 0.006009777\\\\\n",
       "\t Olifants & 2 &  5 & 10 & 1.247500 & 0.33700787 & 0.004204173\\\\\n",
       "\t Olifants & 3 &  5 & 10 & 1.114550 & 0.27047244 & 0.003014551\\\\\n",
       "\t Olifants & 1 & 10 & 20 & 1.186980 & 0.20190476 & 0.002396569\\\\\n",
       "\t Olifants & 2 & 10 & 20 & 1.260380 & 0.09129225 & 0.001150629\\\\\n",
       "\t Olifants & 3 & 10 & 20 & 1.201780 & 0.27278885 & 0.003278322\\\\\n",
       "\t Olifants & 1 & 20 & 30 & 1.186360 & 0.30743083 & 0.003647236\\\\\n",
       "\t Olifants & 2 & 20 & 30 & 1.128520 & 0.42719290 & 0.004820957\\\\\n",
       "\t Olifants & 3 & 20 & 30 & 1.172660 & 0.20230616 & 0.002372363\\\\\n",
       "\t Olifants & 1 & 30 & 50 & 1.323180 & 0.08222222 & 0.001087948\\\\\n",
       "\t Olifants & 2 & 30 & 50 & 1.265360 & 0.16326693 & 0.002065914\\\\\n",
       "\t Olifants & 3 & 30 & 50 & 1.271300 & 0.10562130 & 0.001342764\\\\\n",
       "\\end{tabular}\n"
      ],
      "text/markdown": [
       "\n",
       "A data.frame: 15 × 7\n",
       "\n",
       "| estuary &lt;chr&gt; | core &lt;int&gt; | depth_1 &lt;int&gt; | depth_2 &lt;int&gt; | DBD &lt;dbl&gt; | Corg &lt;dbl&gt; | Corg_DBD &lt;dbl&gt; |\n",
       "|---|---|---|---|---|---|---|\n",
       "| Olifants | 1 |  0 |  5 | 0.853000 | 0.46120000 | 0.003934036 |\n",
       "| Olifants | 2 |  0 |  5 | 0.844650 | 0.30094675 | 0.002541947 |\n",
       "| Olifants | 3 |  0 |  5 | 0.492800 | 1.35763209 | 0.006690411 |\n",
       "| Olifants | 1 |  5 | 10 | 1.192133 | 0.50411956 | 0.006009777 |\n",
       "| Olifants | 2 |  5 | 10 | 1.247500 | 0.33700787 | 0.004204173 |\n",
       "| Olifants | 3 |  5 | 10 | 1.114550 | 0.27047244 | 0.003014551 |\n",
       "| Olifants | 1 | 10 | 20 | 1.186980 | 0.20190476 | 0.002396569 |\n",
       "| Olifants | 2 | 10 | 20 | 1.260380 | 0.09129225 | 0.001150629 |\n",
       "| Olifants | 3 | 10 | 20 | 1.201780 | 0.27278885 | 0.003278322 |\n",
       "| Olifants | 1 | 20 | 30 | 1.186360 | 0.30743083 | 0.003647236 |\n",
       "| Olifants | 2 | 20 | 30 | 1.128520 | 0.42719290 | 0.004820957 |\n",
       "| Olifants | 3 | 20 | 30 | 1.172660 | 0.20230616 | 0.002372363 |\n",
       "| Olifants | 1 | 30 | 50 | 1.323180 | 0.08222222 | 0.001087948 |\n",
       "| Olifants | 2 | 30 | 50 | 1.265360 | 0.16326693 | 0.002065914 |\n",
       "| Olifants | 3 | 30 | 50 | 1.271300 | 0.10562130 | 0.001342764 |\n",
       "\n"
      ],
      "text/plain": [
       "   estuary  core depth_1 depth_2 DBD      Corg       Corg_DBD   \n",
       "1  Olifants 1     0       5      0.853000 0.46120000 0.003934036\n",
       "2  Olifants 2     0       5      0.844650 0.30094675 0.002541947\n",
       "3  Olifants 3     0       5      0.492800 1.35763209 0.006690411\n",
       "4  Olifants 1     5      10      1.192133 0.50411956 0.006009777\n",
       "5  Olifants 2     5      10      1.247500 0.33700787 0.004204173\n",
       "6  Olifants 3     5      10      1.114550 0.27047244 0.003014551\n",
       "7  Olifants 1    10      20      1.186980 0.20190476 0.002396569\n",
       "8  Olifants 2    10      20      1.260380 0.09129225 0.001150629\n",
       "9  Olifants 3    10      20      1.201780 0.27278885 0.003278322\n",
       "10 Olifants 1    20      30      1.186360 0.30743083 0.003647236\n",
       "11 Olifants 2    20      30      1.128520 0.42719290 0.004820957\n",
       "12 Olifants 3    20      30      1.172660 0.20230616 0.002372363\n",
       "13 Olifants 1    30      50      1.323180 0.08222222 0.001087948\n",
       "14 Olifants 2    30      50      1.265360 0.16326693 0.002065914\n",
       "15 Olifants 3    30      50      1.271300 0.10562130 0.001342764"
      ]
     },
     "metadata": {},
     "output_type": "display_data"
    }
   ],
   "source": [
    "#Soil carbon density (g/cm3) = dry bulk density (g/cm3) * (% Corg/100)\n",
    "(soil_carbon_density <- Test_data |>\n",
    "                       dplyr::mutate(Corg_DBD = DBD * Corg/100))"
   ]
  },
  {
   "cell_type": "code",
   "execution_count": 6,
   "id": "1c5467a3-3a58-4b12-954b-340bfa158eeb",
   "metadata": {},
   "outputs": [
    {
     "data": {
      "text/html": [
       "<table class=\"dataframe\">\n",
       "<caption>A data.frame: 15 × 9</caption>\n",
       "<thead>\n",
       "\t<tr><th scope=col>estuary</th><th scope=col>core</th><th scope=col>depth_1</th><th scope=col>depth_2</th><th scope=col>DBD</th><th scope=col>Corg</th><th scope=col>Corg_DBD</th><th scope=col>depth_interval</th><th scope=col>interval_carbon</th></tr>\n",
       "\t<tr><th scope=col>&lt;chr&gt;</th><th scope=col>&lt;int&gt;</th><th scope=col>&lt;int&gt;</th><th scope=col>&lt;int&gt;</th><th scope=col>&lt;dbl&gt;</th><th scope=col>&lt;dbl&gt;</th><th scope=col>&lt;dbl&gt;</th><th scope=col>&lt;int&gt;</th><th scope=col>&lt;dbl&gt;</th></tr>\n",
       "</thead>\n",
       "<tbody>\n",
       "\t<tr><td>Olifants</td><td>1</td><td> 0</td><td> 5</td><td>0.853000</td><td>0.46120000</td><td>0.003934036</td><td> 5</td><td>0.01967018</td></tr>\n",
       "\t<tr><td>Olifants</td><td>2</td><td> 0</td><td> 5</td><td>0.844650</td><td>0.30094675</td><td>0.002541947</td><td> 5</td><td>0.01270973</td></tr>\n",
       "\t<tr><td>Olifants</td><td>3</td><td> 0</td><td> 5</td><td>0.492800</td><td>1.35763209</td><td>0.006690411</td><td> 5</td><td>0.03345205</td></tr>\n",
       "\t<tr><td>Olifants</td><td>1</td><td> 5</td><td>10</td><td>1.192133</td><td>0.50411956</td><td>0.006009777</td><td> 5</td><td>0.03004889</td></tr>\n",
       "\t<tr><td>Olifants</td><td>2</td><td> 5</td><td>10</td><td>1.247500</td><td>0.33700787</td><td>0.004204173</td><td> 5</td><td>0.02102087</td></tr>\n",
       "\t<tr><td>Olifants</td><td>3</td><td> 5</td><td>10</td><td>1.114550</td><td>0.27047244</td><td>0.003014551</td><td> 5</td><td>0.01507275</td></tr>\n",
       "\t<tr><td>Olifants</td><td>1</td><td>10</td><td>20</td><td>1.186980</td><td>0.20190476</td><td>0.002396569</td><td>10</td><td>0.02396569</td></tr>\n",
       "\t<tr><td>Olifants</td><td>2</td><td>10</td><td>20</td><td>1.260380</td><td>0.09129225</td><td>0.001150629</td><td>10</td><td>0.01150629</td></tr>\n",
       "\t<tr><td>Olifants</td><td>3</td><td>10</td><td>20</td><td>1.201780</td><td>0.27278885</td><td>0.003278322</td><td>10</td><td>0.03278322</td></tr>\n",
       "\t<tr><td>Olifants</td><td>1</td><td>20</td><td>30</td><td>1.186360</td><td>0.30743083</td><td>0.003647236</td><td>10</td><td>0.03647236</td></tr>\n",
       "\t<tr><td>Olifants</td><td>2</td><td>20</td><td>30</td><td>1.128520</td><td>0.42719290</td><td>0.004820957</td><td>10</td><td>0.04820957</td></tr>\n",
       "\t<tr><td>Olifants</td><td>3</td><td>20</td><td>30</td><td>1.172660</td><td>0.20230616</td><td>0.002372363</td><td>10</td><td>0.02372363</td></tr>\n",
       "\t<tr><td>Olifants</td><td>1</td><td>30</td><td>50</td><td>1.323180</td><td>0.08222222</td><td>0.001087948</td><td>20</td><td>0.02175896</td></tr>\n",
       "\t<tr><td>Olifants</td><td>2</td><td>30</td><td>50</td><td>1.265360</td><td>0.16326693</td><td>0.002065914</td><td>20</td><td>0.04131829</td></tr>\n",
       "\t<tr><td>Olifants</td><td>3</td><td>30</td><td>50</td><td>1.271300</td><td>0.10562130</td><td>0.001342764</td><td>20</td><td>0.02685527</td></tr>\n",
       "</tbody>\n",
       "</table>\n"
      ],
      "text/latex": [
       "A data.frame: 15 × 9\n",
       "\\begin{tabular}{lllllllll}\n",
       " estuary & core & depth\\_1 & depth\\_2 & DBD & Corg & Corg\\_DBD & depth\\_interval & interval\\_carbon\\\\\n",
       " <chr> & <int> & <int> & <int> & <dbl> & <dbl> & <dbl> & <int> & <dbl>\\\\\n",
       "\\hline\n",
       "\t Olifants & 1 &  0 &  5 & 0.853000 & 0.46120000 & 0.003934036 &  5 & 0.01967018\\\\\n",
       "\t Olifants & 2 &  0 &  5 & 0.844650 & 0.30094675 & 0.002541947 &  5 & 0.01270973\\\\\n",
       "\t Olifants & 3 &  0 &  5 & 0.492800 & 1.35763209 & 0.006690411 &  5 & 0.03345205\\\\\n",
       "\t Olifants & 1 &  5 & 10 & 1.192133 & 0.50411956 & 0.006009777 &  5 & 0.03004889\\\\\n",
       "\t Olifants & 2 &  5 & 10 & 1.247500 & 0.33700787 & 0.004204173 &  5 & 0.02102087\\\\\n",
       "\t Olifants & 3 &  5 & 10 & 1.114550 & 0.27047244 & 0.003014551 &  5 & 0.01507275\\\\\n",
       "\t Olifants & 1 & 10 & 20 & 1.186980 & 0.20190476 & 0.002396569 & 10 & 0.02396569\\\\\n",
       "\t Olifants & 2 & 10 & 20 & 1.260380 & 0.09129225 & 0.001150629 & 10 & 0.01150629\\\\\n",
       "\t Olifants & 3 & 10 & 20 & 1.201780 & 0.27278885 & 0.003278322 & 10 & 0.03278322\\\\\n",
       "\t Olifants & 1 & 20 & 30 & 1.186360 & 0.30743083 & 0.003647236 & 10 & 0.03647236\\\\\n",
       "\t Olifants & 2 & 20 & 30 & 1.128520 & 0.42719290 & 0.004820957 & 10 & 0.04820957\\\\\n",
       "\t Olifants & 3 & 20 & 30 & 1.172660 & 0.20230616 & 0.002372363 & 10 & 0.02372363\\\\\n",
       "\t Olifants & 1 & 30 & 50 & 1.323180 & 0.08222222 & 0.001087948 & 20 & 0.02175896\\\\\n",
       "\t Olifants & 2 & 30 & 50 & 1.265360 & 0.16326693 & 0.002065914 & 20 & 0.04131829\\\\\n",
       "\t Olifants & 3 & 30 & 50 & 1.271300 & 0.10562130 & 0.001342764 & 20 & 0.02685527\\\\\n",
       "\\end{tabular}\n"
      ],
      "text/markdown": [
       "\n",
       "A data.frame: 15 × 9\n",
       "\n",
       "| estuary &lt;chr&gt; | core &lt;int&gt; | depth_1 &lt;int&gt; | depth_2 &lt;int&gt; | DBD &lt;dbl&gt; | Corg &lt;dbl&gt; | Corg_DBD &lt;dbl&gt; | depth_interval &lt;int&gt; | interval_carbon &lt;dbl&gt; |\n",
       "|---|---|---|---|---|---|---|---|---|\n",
       "| Olifants | 1 |  0 |  5 | 0.853000 | 0.46120000 | 0.003934036 |  5 | 0.01967018 |\n",
       "| Olifants | 2 |  0 |  5 | 0.844650 | 0.30094675 | 0.002541947 |  5 | 0.01270973 |\n",
       "| Olifants | 3 |  0 |  5 | 0.492800 | 1.35763209 | 0.006690411 |  5 | 0.03345205 |\n",
       "| Olifants | 1 |  5 | 10 | 1.192133 | 0.50411956 | 0.006009777 |  5 | 0.03004889 |\n",
       "| Olifants | 2 |  5 | 10 | 1.247500 | 0.33700787 | 0.004204173 |  5 | 0.02102087 |\n",
       "| Olifants | 3 |  5 | 10 | 1.114550 | 0.27047244 | 0.003014551 |  5 | 0.01507275 |\n",
       "| Olifants | 1 | 10 | 20 | 1.186980 | 0.20190476 | 0.002396569 | 10 | 0.02396569 |\n",
       "| Olifants | 2 | 10 | 20 | 1.260380 | 0.09129225 | 0.001150629 | 10 | 0.01150629 |\n",
       "| Olifants | 3 | 10 | 20 | 1.201780 | 0.27278885 | 0.003278322 | 10 | 0.03278322 |\n",
       "| Olifants | 1 | 20 | 30 | 1.186360 | 0.30743083 | 0.003647236 | 10 | 0.03647236 |\n",
       "| Olifants | 2 | 20 | 30 | 1.128520 | 0.42719290 | 0.004820957 | 10 | 0.04820957 |\n",
       "| Olifants | 3 | 20 | 30 | 1.172660 | 0.20230616 | 0.002372363 | 10 | 0.02372363 |\n",
       "| Olifants | 1 | 30 | 50 | 1.323180 | 0.08222222 | 0.001087948 | 20 | 0.02175896 |\n",
       "| Olifants | 2 | 30 | 50 | 1.265360 | 0.16326693 | 0.002065914 | 20 | 0.04131829 |\n",
       "| Olifants | 3 | 30 | 50 | 1.271300 | 0.10562130 | 0.001342764 | 20 | 0.02685527 |\n",
       "\n"
      ],
      "text/plain": [
       "   estuary  core depth_1 depth_2 DBD      Corg       Corg_DBD    depth_interval\n",
       "1  Olifants 1     0       5      0.853000 0.46120000 0.003934036  5            \n",
       "2  Olifants 2     0       5      0.844650 0.30094675 0.002541947  5            \n",
       "3  Olifants 3     0       5      0.492800 1.35763209 0.006690411  5            \n",
       "4  Olifants 1     5      10      1.192133 0.50411956 0.006009777  5            \n",
       "5  Olifants 2     5      10      1.247500 0.33700787 0.004204173  5            \n",
       "6  Olifants 3     5      10      1.114550 0.27047244 0.003014551  5            \n",
       "7  Olifants 1    10      20      1.186980 0.20190476 0.002396569 10            \n",
       "8  Olifants 2    10      20      1.260380 0.09129225 0.001150629 10            \n",
       "9  Olifants 3    10      20      1.201780 0.27278885 0.003278322 10            \n",
       "10 Olifants 1    20      30      1.186360 0.30743083 0.003647236 10            \n",
       "11 Olifants 2    20      30      1.128520 0.42719290 0.004820957 10            \n",
       "12 Olifants 3    20      30      1.172660 0.20230616 0.002372363 10            \n",
       "13 Olifants 1    30      50      1.323180 0.08222222 0.001087948 20            \n",
       "14 Olifants 2    30      50      1.265360 0.16326693 0.002065914 20            \n",
       "15 Olifants 3    30      50      1.271300 0.10562130 0.001342764 20            \n",
       "   interval_carbon\n",
       "1  0.01967018     \n",
       "2  0.01270973     \n",
       "3  0.03345205     \n",
       "4  0.03004889     \n",
       "5  0.02102087     \n",
       "6  0.01507275     \n",
       "7  0.02396569     \n",
       "8  0.01150629     \n",
       "9  0.03278322     \n",
       "10 0.03647236     \n",
       "11 0.04820957     \n",
       "12 0.02372363     \n",
       "13 0.02175896     \n",
       "14 0.04131829     \n",
       "15 0.02685527     "
      ]
     },
     "metadata": {},
     "output_type": "display_data"
    }
   ],
   "source": [
    "#Amount carbon in core section (g/cm2) = Soil carbon density (g/cm3) * thickness interval (cm).\n",
    "(core_section_carbon <-  soil_carbon_density |>\n",
    "                        dplyr::mutate(depth_interval = depth_2 -depth_1) |>\n",
    "                        dplyr::mutate(interval_carbon = depth_interval * Corg_DBD))"
   ]
  },
  {
   "cell_type": "code",
   "execution_count": 7,
   "id": "8ab42c2d-1141-4c49-9621-3d920e2925bd",
   "metadata": {},
   "outputs": [
    {
     "name": "stderr",
     "output_type": "stream",
     "text": [
      "\u001b[1m\u001b[22m`summarise()` has grouped output by 'estuary'. You can override using the `.groups` argument.\n"
     ]
    },
    {
     "data": {
      "text/html": [
       "<table class=\"dataframe\">\n",
       "<caption>A tibble: 3 × 3</caption>\n",
       "<thead>\n",
       "\t<tr><th scope=col>estuary</th><th scope=col>core</th><th scope=col>Core_sum</th></tr>\n",
       "\t<tr><th scope=col>&lt;chr&gt;</th><th scope=col>&lt;int&gt;</th><th scope=col>&lt;dbl&gt;</th></tr>\n",
       "</thead>\n",
       "<tbody>\n",
       "\t<tr><td>Olifants</td><td>1</td><td>0.1319161</td></tr>\n",
       "\t<tr><td>Olifants</td><td>2</td><td>0.1347648</td></tr>\n",
       "\t<tr><td>Olifants</td><td>3</td><td>0.1318869</td></tr>\n",
       "</tbody>\n",
       "</table>\n"
      ],
      "text/latex": [
       "A tibble: 3 × 3\n",
       "\\begin{tabular}{lll}\n",
       " estuary & core & Core\\_sum\\\\\n",
       " <chr> & <int> & <dbl>\\\\\n",
       "\\hline\n",
       "\t Olifants & 1 & 0.1319161\\\\\n",
       "\t Olifants & 2 & 0.1347648\\\\\n",
       "\t Olifants & 3 & 0.1318869\\\\\n",
       "\\end{tabular}\n"
      ],
      "text/markdown": [
       "\n",
       "A tibble: 3 × 3\n",
       "\n",
       "| estuary &lt;chr&gt; | core &lt;int&gt; | Core_sum &lt;dbl&gt; |\n",
       "|---|---|---|\n",
       "| Olifants | 1 | 0.1319161 |\n",
       "| Olifants | 2 | 0.1347648 |\n",
       "| Olifants | 3 | 0.1318869 |\n",
       "\n"
      ],
      "text/plain": [
       "  estuary  core Core_sum \n",
       "1 Olifants 1    0.1319161\n",
       "2 Olifants 2    0.1347648\n",
       "3 Olifants 3    0.1318869"
      ]
     },
     "metadata": {},
     "output_type": "display_data"
    }
   ],
   "source": [
    "#Sum the amount of carbon in core sections over the recommended total sampling depth\n",
    "(Corg_Core <- core_section_carbon |>\n",
    "              dplyr::group_by(estuary, core) |>\n",
    "              dplyr::summarise(Core_sum = sum(interval_carbon)) |>\n",
    "              dplyr::ungroup())"
   ]
  },
  {
   "cell_type": "code",
   "execution_count": 8,
   "id": "aefcfe78-9a43-43af-8f22-0cb107083e61",
   "metadata": {},
   "outputs": [
    {
     "data": {
      "text/html": [
       "<table class=\"dataframe\">\n",
       "<caption>A tibble: 3 × 4</caption>\n",
       "<thead>\n",
       "\t<tr><th scope=col>estuary</th><th scope=col>core</th><th scope=col>Core_sum</th><th scope=col>MgC_ha</th></tr>\n",
       "\t<tr><th scope=col>&lt;chr&gt;</th><th scope=col>&lt;int&gt;</th><th scope=col>&lt;dbl&gt;</th><th scope=col>&lt;dbl&gt;</th></tr>\n",
       "</thead>\n",
       "<tbody>\n",
       "\t<tr><td>Olifants</td><td>1</td><td>0.1319161</td><td>13.19161</td></tr>\n",
       "\t<tr><td>Olifants</td><td>2</td><td>0.1347648</td><td>13.47648</td></tr>\n",
       "\t<tr><td>Olifants</td><td>3</td><td>0.1318869</td><td>13.18869</td></tr>\n",
       "</tbody>\n",
       "</table>\n"
      ],
      "text/latex": [
       "A tibble: 3 × 4\n",
       "\\begin{tabular}{llll}\n",
       " estuary & core & Core\\_sum & MgC\\_ha\\\\\n",
       " <chr> & <int> & <dbl> & <dbl>\\\\\n",
       "\\hline\n",
       "\t Olifants & 1 & 0.1319161 & 13.19161\\\\\n",
       "\t Olifants & 2 & 0.1347648 & 13.47648\\\\\n",
       "\t Olifants & 3 & 0.1318869 & 13.18869\\\\\n",
       "\\end{tabular}\n"
      ],
      "text/markdown": [
       "\n",
       "A tibble: 3 × 4\n",
       "\n",
       "| estuary &lt;chr&gt; | core &lt;int&gt; | Core_sum &lt;dbl&gt; | MgC_ha &lt;dbl&gt; |\n",
       "|---|---|---|---|\n",
       "| Olifants | 1 | 0.1319161 | 13.19161 |\n",
       "| Olifants | 2 | 0.1347648 | 13.47648 |\n",
       "| Olifants | 3 | 0.1318869 | 13.18869 |\n",
       "\n"
      ],
      "text/plain": [
       "  estuary  core Core_sum  MgC_ha  \n",
       "1 Olifants 1    0.1319161 13.19161\n",
       "2 Olifants 2    0.1347648 13.47648\n",
       "3 Olifants 3    0.1318869 13.18869"
      ]
     },
     "metadata": {},
     "output_type": "display_data"
    }
   ],
   "source": [
    "#Convert the total core carbon from step 3 into the units commonly used in carbon stock assessment (MgC/hectare) using the following unit conversion factors \n",
    "#(There are 1 000 000 g per Mg (megagram), and 100 000 000 cm2 per hectare)\n",
    "(MG_ha_Corg_Core <- Corg_Core |>\n",
    "                    dplyr::mutate(MgC_ha = Core_sum * (1/1000000) * (100000000/1)))"
   ]
  },
  {
   "cell_type": "code",
   "execution_count": 10,
   "id": "b4e401d3-d7c0-41cb-8817-f04701ef07ec",
   "metadata": {},
   "outputs": [
    {
     "data": {
      "text/html": [
       "<table class=\"dataframe\">\n",
       "<caption>A tibble: 1 × 3</caption>\n",
       "<thead>\n",
       "\t<tr><th scope=col>estuary</th><th scope=col>mean_Mg_ha</th><th scope=col>sd_Mg_ha</th></tr>\n",
       "\t<tr><th scope=col>&lt;chr&gt;</th><th scope=col>&lt;dbl&gt;</th><th scope=col>&lt;dbl&gt;</th></tr>\n",
       "</thead>\n",
       "<tbody>\n",
       "\t<tr><td>Olifants</td><td>13.28559</td><td>0.165316</td></tr>\n",
       "</tbody>\n",
       "</table>\n"
      ],
      "text/latex": [
       "A tibble: 1 × 3\n",
       "\\begin{tabular}{lll}\n",
       " estuary & mean\\_Mg\\_ha & sd\\_Mg\\_ha\\\\\n",
       " <chr> & <dbl> & <dbl>\\\\\n",
       "\\hline\n",
       "\t Olifants & 13.28559 & 0.165316\\\\\n",
       "\\end{tabular}\n"
      ],
      "text/markdown": [
       "\n",
       "A tibble: 1 × 3\n",
       "\n",
       "| estuary &lt;chr&gt; | mean_Mg_ha &lt;dbl&gt; | sd_Mg_ha &lt;dbl&gt; |\n",
       "|---|---|---|\n",
       "| Olifants | 13.28559 | 0.165316 |\n",
       "\n"
      ],
      "text/plain": [
       "  estuary  mean_Mg_ha sd_Mg_ha\n",
       "1 Olifants 13.28559   0.165316"
      ]
     },
     "metadata": {},
     "output_type": "display_data"
    }
   ],
   "source": [
    "#Determine variability\n",
    "(Olifants_Mg_ha <- MG_ha_Corg_Core |>\n",
    "               dplyr::group_by(estuary) |>\n",
    "               dplyr::summarise(mean_Mg_ha = mean(MgC_ha), sd_Mg_ha = sd(MgC_ha)))"
   ]
  },
  {
   "cell_type": "code",
   "execution_count": null,
   "id": "8ee83145-c4c5-483a-8cfc-0b4ec62d4247",
   "metadata": {},
   "outputs": [],
   "source": []
  },
  {
   "cell_type": "code",
   "execution_count": null,
   "id": "be1cfd30-b587-45df-ac9e-0bae13008b87",
   "metadata": {},
   "outputs": [],
   "source": []
  }
 ],
 "metadata": {
  "kernelspec": {
   "display_name": "R",
   "language": "R",
   "name": "ir"
  },
  "language_info": {
   "codemirror_mode": "r",
   "file_extension": ".r",
   "mimetype": "text/x-r-source",
   "name": "R",
   "pygments_lexer": "r",
   "version": "4.3.2"
  }
 },
 "nbformat": 4,
 "nbformat_minor": 5
}
